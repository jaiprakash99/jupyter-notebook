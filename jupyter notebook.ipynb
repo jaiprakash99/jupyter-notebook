{
 "cells": [
  {
   "cell_type": "markdown",
   "id": "06b24181",
   "metadata": {},
   "source": [
    "# My Jupyter Notebook on IBM data science \n"
   ]
  },
  {
   "cell_type": "markdown",
   "id": "963e7204",
   "metadata": {},
   "source": [
    "### Jai Prakash"
   ]
  },
  {
   "cell_type": "markdown",
   "id": "aafa46cf",
   "metadata": {},
   "source": [
    "i am a data scientist"
   ]
  },
  {
   "cell_type": "markdown",
   "id": "e40cf68c",
   "metadata": {},
   "source": [
    "i am interested in data science beacause i love telling stories with data and using data to help bring that data to life. I love helping others. In data science that could be helping a business understand its customers or improving the way it uses it customer data."
   ]
  },
  {
   "cell_type": "markdown",
   "id": "4faa7a89",
   "metadata": {},
   "source": [
    "i am learning data science"
   ]
  },
  {
   "cell_type": "markdown",
   "id": "f7d70d9f",
   "metadata": {},
   "source": [
    "1. Python\n",
    "2. Tools for data science\n",
    "3. Statistics\n",
    "4. Basic of Mathematics\n",
    "5. Data analytics\n",
    "6. Feature engineering\n",
    "7. Machine Learning\n",
    "8. Model Evolution\n",
    "9. Deployment"
   ]
  },
  {
   "cell_type": "markdown",
   "id": "b5ccbe8a",
   "metadata": {},
   "source": [
    "### Data science libraries"
   ]
  },
  {
   "cell_type": "markdown",
   "id": "2624a4af",
   "metadata": {},
   "source": [
    "1. Numpy\n",
    "2. Pandas\n",
    "3. Matplotlib\n",
    "4. Seaborn\n",
    "5. Scipy\n",
    "6. Sikit-Learn\n",
    "7. StatsModels"
   ]
  },
  {
   "cell_type": "markdown",
   "id": "049dd22d",
   "metadata": {},
   "source": [
    "### Data Science Tools"
   ]
  },
  {
   "cell_type": "markdown",
   "id": "4f466e2c",
   "metadata": {},
   "source": [
    "1. Jupyter Notebook\n",
    "2. Python\n",
    "3. Spider\n",
    "4. Anaconda"
   ]
  },
  {
   "cell_type": "markdown",
   "id": "0ccf95ae",
   "metadata": {},
   "source": [
    "### Arithmetic expression"
   ]
  },
  {
   "cell_type": "code",
   "execution_count": 1,
   "id": "01cf4317",
   "metadata": {},
   "outputs": [
    {
     "data": {
      "text/plain": [
       "13"
      ]
     },
     "execution_count": 1,
     "metadata": {},
     "output_type": "execute_result"
    }
   ],
   "source": [
    "10+3"
   ]
  },
  {
   "cell_type": "markdown",
   "id": "a9e345f0",
   "metadata": {},
   "source": [
    "### multiply and add the number"
   ]
  },
  {
   "cell_type": "code",
   "execution_count": 2,
   "id": "6446a23d",
   "metadata": {},
   "outputs": [],
   "source": [
    "a = 2*4"
   ]
  },
  {
   "cell_type": "code",
   "execution_count": 3,
   "id": "7b86e283",
   "metadata": {},
   "outputs": [
    {
     "data": {
      "text/plain": [
       "8"
      ]
     },
     "execution_count": 3,
     "metadata": {},
     "output_type": "execute_result"
    }
   ],
   "source": [
    "a"
   ]
  },
  {
   "cell_type": "code",
   "execution_count": 4,
   "id": "d6ad6407",
   "metadata": {},
   "outputs": [
    {
     "data": {
      "text/plain": [
       "16"
      ]
     },
     "execution_count": 4,
     "metadata": {},
     "output_type": "execute_result"
    }
   ],
   "source": [
    "a+8"
   ]
  },
  {
   "cell_type": "markdown",
   "id": "83ecfa49",
   "metadata": {},
   "source": [
    "### convert minutes to hours "
   ]
  },
  {
   "cell_type": "code",
   "execution_count": 5,
   "id": "7a0f8e51",
   "metadata": {},
   "outputs": [
    {
     "name": "stdout",
     "output_type": "stream",
     "text": [
      "2:130\n"
     ]
    }
   ],
   "source": [
    "minutes = 130\n",
    "hours = minutes//60\n",
    "minute = minutes%60\n",
    "time = \"{}:{}\".format(hours,minutes)\n",
    "print(time)"
   ]
  },
  {
   "cell_type": "markdown",
   "id": "1193809b",
   "metadata": {},
   "source": [
    "The main objective of data science is to discover patterns in data. It makes sense of the data through a variety of statistical techniques. After data extraction, wrangling, and pre-processing, a data scientist must carefully examine the data."
   ]
  },
  {
   "cell_type": "markdown",
   "id": "b673d61e",
   "metadata": {},
   "source": [
    "Author Name  - Jai Prakash"
   ]
  },
  {
   "cell_type": "code",
   "execution_count": null,
   "id": "6eb779fa",
   "metadata": {},
   "outputs": [],
   "source": []
  }
 ],
 "metadata": {
  "kernelspec": {
   "display_name": "Python 3 (ipykernel)",
   "language": "python",
   "name": "python3"
  },
  "language_info": {
   "codemirror_mode": {
    "name": "ipython",
    "version": 3
   },
   "file_extension": ".py",
   "mimetype": "text/x-python",
   "name": "python",
   "nbconvert_exporter": "python",
   "pygments_lexer": "ipython3",
   "version": "3.11.2"
  }
 },
 "nbformat": 4,
 "nbformat_minor": 5
}
